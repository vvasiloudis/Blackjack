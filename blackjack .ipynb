{
 "cells": [
  {
   "cell_type": "code",
   "execution_count": 28,
   "metadata": {
    "collapsed": false
   },
   "outputs": [
    {
     "name": "stdout",
     "output_type": "stream",
     "text": [
      "3.8.10\n"
     ]
    }
   ],
   "source": [
    "import platform\n",
    "print(platform.python_version()) # >=3.7.1rc1 required for dataclass\n",
    "from dataclasses import dataclass\n",
    "from enum import Enum\n",
    "import numpy as np\n",
    "%matplotlib inline\n",
    "import matplotlib\n",
    "import matplotlib.pyplot as plt\n",
    "import random\n",
    "from abc import ABC, abstractmethod\n"
   ]
  },
  {
   "cell_type": "code",
   "execution_count": 25,
   "metadata": {
    "collapsed": false
   },
   "outputs": [
   ],
   "source": [
    "class Deck:\n",
    "    def __init__(self, seed:int=42):\n",
    "        self.seed = seed\n",
    "        random.seed(self.seed)\n",
    "        self._cards = list(range(1, 10)) + [10] * 4\n",
    "\n",
    "    def draw(self) -> int:\n",
    "        return random.choice(self._cards)"
   ]
  },
  {
   "cell_type": "code",
   "execution_count": 68,
   "metadata": {
    "collapsed": false
   },
   "outputs": [
    {
     "name": "stdout",
     "output_type": "stream",
     "text": [
      "10 3179\n",
      "2 780\n",
      "1 714\n",
      "5 752\n",
      "4 723\n",
      "3 782\n",
      "9 775\n",
      "7 743\n",
      "8 791\n",
      "6 761\n"
     ]
    }
   ],
   "source": [
    "# test the deck out\n",
    "deck = Deck()\n",
    "assert(len(deck._cards) == 13)\n",
    "\n",
    "distribution = {}\n",
    "for i in range(0, int(1e4)):\n",
    "    card = deck.draw()\n",
    "    distribution[card] = distribution.get(card, 0) + 1\n",
    "\n",
    "for card, count in distribution.items():\n",
    "    print(card, count) # 10 should have roughly 4x more than others"
   ]
  },
  {
   "cell_type": "code",
   "execution_count": 69,
   "metadata": {
    "collapsed": false
   },
   "outputs": [
   ],
   "source": [
    "# helper function to get sum of cards, considering whether to use ace as 11 or not\n",
    "def SumCards(cards) -> int:\n",
    "    if 1 in cards:\n",
    "        if sum(cards) + 10 <= 21:\n",
    "            return sum(cards) + 10\n",
    "        else:\n",
    "            return sum(cards)\n",
    "    else:\n",
    "        return sum(cards)\n",
    "\n",
    "# test\n",
    "assert(SumCards([2,3]) == 5)\n",
    "assert(SumCards([1,5]) == 16)\n",
    "assert(SumCards([1,5,10]) == 16)\n",
    "assert(SumCards([1,1]) == 12)\n",
    "assert(SumCards([1,1,1]) == 13)"
   ]
  },
  {
   "cell_type": "code",
   "execution_count": 72,
   "metadata": {
    "collapsed": false
   },
   "outputs": [
   ],
   "source": [
    "# MDP classes\n",
    "@dataclass\n",
    "class State:\n",
    "    CurrentSum: int\n",
    "    ShowingCardFromDealer: int\n",
    "    HasUsableAce: bool\n",
    "\n",
    "    def __str__(self):\n",
    "        return \"%d-%d-%s\" % (self.CurrentSum, self.ShowingCardFromDealer, self.HasUsableAce)\n",
    "\n",
    "class Action(Enum):\n",
    "    HIT = 1\n",
    "    STICK = 2"
   ]
  },
  {
   "cell_type": "code",
   "execution_count": 63,
   "metadata": {
    "collapsed": false
   },
   "outputs": [
   ],
   "source": [
    "class Policy(ABC):\n",
    "    def __init__(self, debug=False):\n",
    "        self._Debug = debug\n",
    "\n",
    "    @abstractmethod\n",
    "    def pi(self, state:State) -> Action:\n",
    "        ..."
   ]
  },
  {
   "cell_type": "code",
   "execution_count": 64,
   "metadata": {
    "collapsed": false
   },
   "outputs": [
   ],
   "source": [
    "class Policy1(Policy):\n",
    "    def pi(self, state:State, is_first:bool=False) -> Action:\n",
    "        if self._Debug:\n",
    "            print(\"[policy debug] received state\", state)\n",
    "        if state.CurrentSum >= 20:\n",
    "            return Action.STICK\n",
    "        else:\n",
    "            return Action.HIT"
   ]
  },
  {
   "cell_type": "code",
   "execution_count": 82,
   "metadata": {
    "collapsed": false
   },
   "outputs": [
   ],
   "source": [
    "class BlackjackEnv:\n",
    "    def __init__(self, seed:int = 42, debug = False):\n",
    "        self._Deck = Deck(seed)\n",
    "        self._Debug = debug\n",
    "        self._DealerCards = []\n",
    "        self._PlayerCards = []\n",
    "        self._state = None\n",
    "\n",
    "    def reset(self) -> (State, int, bool):\n",
    "        self._DealerCards = []\n",
    "        self._PlayerCards = []\n",
    "        self._state = None\n",
    "\n",
    "        PlayerCards = [self._Deck.draw(), self._Deck.draw()]\n",
    "        DealerCards = [self._Deck.draw(), self._Deck.draw()]\n",
    "\n",
    "        self._PlayerCards = PlayerCards\n",
    "        self._DealerCards = DealerCards\n",
    "\n",
    "        if self._Debug:\n",
    "            print(\"[env debug] player's first two cards: \", PlayerCards)\n",
    "            print(\"[env debug] dealer's first two cards: \", DealerCards)\n",
    "\n",
    "        state = State(\n",
    "            SumCards(PlayerCards),\n",
    "            DealerCards[0],\n",
    "            1 in PlayerCards and sum(PlayerCards) + 10 <= 21\n",
    "        )\n",
    "        self._state = state\n",
    "\n",
    "        if set(PlayerCards) == set([1,10]):\n",
    "            if set(DealerCards) == set([1,10]): # draw\n",
    "                return (state, 0, True)\n",
    "            else: # win\n",
    "                return (state, 1, True)\n",
    "        else: # game continues\n",
    "            return (state, 0, False)\n",
    "\n",
    "    def step(self, action:Action) -> (State, int, bool):\n",
    "        if action == Action.STICK:\n",
    "            # dealer sticks when sum >= 17, and hit otherwise\n",
    "            # dealer loses if goes bust, else compare final sum\n",
    "            DealerSum = SumCards(self._DealerCards)\n",
    "            while DealerSum < 17:\n",
    "                card = self._Deck.draw()\n",
    "                if self._Debug:\n",
    "                    print(\"[env debug] draw card for dealer\", card)\n",
    "                self._DealerCards.append(card)\n",
    "                DealerSum = SumCards(self._DealerCards)\n",
    "            if DealerSum > 21: # dealer goes bust\n",
    "                return (self._state, 1, True)\n",
    "\n",
    "            # compare final sum\n",
    "            if self._state.CurrentSum > DealerSum:\n",
    "                return (self._state, 1, True)\n",
    "            elif self._state.CurrentSum == DealerSum:\n",
    "                return (self._state, 0, True)\n",
    "            else:\n",
    "                return (self._state, -1, True)\n",
    "        else:\n",
    "            # draw one more card for player\n",
    "            card = self._Deck.draw()\n",
    "            self._PlayerCards.append(card)\n",
    "            if self._Debug:\n",
    "                print(\"[env debug] draw card for player\", card, self._PlayerCards)\n",
    "            PlayerSum = SumCards(self._PlayerCards)\n",
    "            state = State(\n",
    "                PlayerSum,\n",
    "                self._state.ShowingCardFromDealer,\n",
    "                1 in self._PlayerCards and sum(self._PlayerCards) + 10 <= 21\n",
    "            )\n",
    "            self._state = state\n",
    "\n",
    "            # check if player has busted or not\n",
    "            if PlayerSum > 21:\n",
    "                return (state, -1, True)\n",
    "            else:\n",
    "                return (state, 0, False)\n",
    "\n",
    "    def info(self):\n",
    "        print(\"[env info] player cards:\", self._PlayerCards)\n",
    "        print(\"[env info] dealer cards:\", self._DealerCards)"
   ]
  },
  {
   "cell_type": "code",
   "execution_count": 83,
   "metadata": {
    "collapsed": false
   },
   "outputs": [
   ],
   "source": [
    "def simulate(env, policy):\n",
    "    observation, reward, done = env.reset()\n",
    "    game = [observation]\n",
    "    if done:\n",
    "        return (game, reward)\n",
    "    else:\n",
    "        action = policy.pi(observation, is_first=True)\n",
    "        observation, reward, done = env.step(action)\n",
    "        game = game + [action, observation]\n",
    "\n",
    "        while not done:\n",
    "            action = policy.pi(observation)\n",
    "            observation, reward, done = env.step(action)\n",
    "            game = game + [action, observation]\n",
    "\n",
    "        return (game, reward)"
   ]
  },
  {
   "cell_type": "code",
   "execution_count": 84,
   "metadata": {
    "collapsed": false
   },
   "outputs": [
    {
     "name": "stdout",
     "output_type": "stream",
     "text": [
      "[env debug] player's first two cards:  [10, 2]\n",
      "[env debug] dealer's first two cards:  [1, 10]\n",
      "[policy debug] received state 12-1-False\n",
      "[env debug] draw card for player 5 [10, 2, 5]\n",
      "[policy debug] received state 17-1-False\n",
      "[env debug] draw card for player 4 [10, 2, 5, 4]\n",
      "[policy debug] received state 21-1-False\n",
      "[game] 12-1-False\n",
      "[game] Action.HIT\n",
      "[game] 17-1-False\n",
      "[game] Action.HIT\n",
      "[game] 21-1-False\n",
      "[game] Action.STICK\n",
      "[game] 21-1-False\n",
      "0\n",
      "[env info] player cards: [10, 2, 5, 4]\n",
      "[env info] dealer cards: [1, 10]\n"
     ]
    }
   ],
   "source": [
    "# test blackjack env\n",
    "env = BlackjackEnv(seed=42, debug=True)\n",
    "policy = Policy1(debug=True)\n",
    "\n",
    "game, reward = simulate(env, policy)\n",
    "for i in game:\n",
    "    print(\"[game]\", i)\n",
    "print(reward)\n",
    "env.info()"
   ]
  },
  {
   "cell_type": "code",
   "execution_count": 85,
   "metadata": {
    "collapsed": false
   },
   "outputs": [
   ],
   "source": [
    "# visualize policy graph w.r.t total 200 possible states\n",
    "def visualize(policy:Policy):\n",
    "\n",
    "    def stick_cutoff(HasUsableAce:bool):\n",
    "        # get the separation between HIT and STICK\n",
    "        result = []\n",
    "        for ShowingCardFromDealer in range(1, 11):\n",
    "            for PlayerSum in range(12, 22):\n",
    "                state = State(PlayerSum, ShowingCardFromDealer, HasUsableAce)\n",
    "                action = policy.pi(state)\n",
    "                if action == Action.STICK:\n",
    "                    result.append(PlayerSum)\n",
    "                    break\n",
    "        return result\n",
    "\n",
    "    ys_with_ace = stick_cutoff(True)\n",
    "    ys_without_ace = stick_cutoff(False)\n",
    "\n",
    "    plt.figure(1)\n",
    "    plt.subplots_adjust(wspace = 0.5)\n",
    "\n",
    "    plt.subplot(121)\n",
    "    plt.title(\"with usable ace\")\n",
    "    plt.xlabel(\"dealer showing\")\n",
    "    plt.ylabel(\"player sum\")\n",
    "    plt.xticks(np.arange(1,11,1))\n",
    "    plt.yticks(np.arange(12,22,1))\n",
    "    plt.plot(list(range(1,11)),ys_with_ace)\n",
    "\n",
    "    plt.subplot(122)\n",
    "    plt.title(\"without usable ace\")\n",
    "    plt.xlabel(\"dealer showing\")\n",
    "    plt.ylabel(\"player sum\")\n",
    "    plt.xticks(np.arange(1,11,1))\n",
    "    plt.yticks(np.arange(12,22,1))\n",
    "    plt.plot(list(range(1,11)),ys_without_ace)"
   ]
  },
  {
   "cell_type": "code",
   "execution_count": 86,
   "metadata": {
    "collapsed": false
   },
   "outputs": [
    {
     "data": {
      "image/png": "[encoded data removed]",
      "text/plain": "<Figure size 432x288 with 2 Axes>"
     },
     "execution_count": 86,
     "metadata": {
      "image/png": {
       "height": 277,
       "width": 382
      },
      "needs_background": "light"
     },
     "output_type": "execute_result"
    }
   ],
   "source": [
    "visualize(Policy1())"
   ]
  },
  {
   "cell_type": "code",
   "execution_count": 93,
   "metadata": {
    "collapsed": false
   },
   "outputs": [
   ],
   "source": [
    "class MCPolicy(Policy):\n",
    "    def __init__(self, seed=42, debug=False):\n",
    "        self.initialise_q()\n",
    "        self.seed = seed\n",
    "        super().__init__(debug)\n",
    "\n",
    "    def initialise_q(self):\n",
    "        self.q = {}\n",
    "        for PlayerSum in range(12, 22):\n",
    "            for ShowingCardFromDealer in range(1, 11):\n",
    "                for HasUsableAce in [True, False]:\n",
    "                    state = State(PlayerSum, ShowingCardFromDealer, HasUsableAce)\n",
    "                    self.q[str(state)] = {\n",
    "                        Action.HIT: {\"count\":0, \"q\":0.0},\n",
    "                        Action.STICK: {\"count\":0, \"q\":0.0}\n",
    "                    }\n",
    "\n",
    "    def pi(self, state:State, is_first:bool=False) -> Action:\n",
    "        if self._debug:\n",
    "            print(\"[policy debug] received state\", state)\n",
    "        if state.CurrentSum <= 11:\n",
    "            return Action.HIT\n",
    "        else:\n",
    "            if is_first: # exploring start\n",
    "                if self._debug:\n",
    "                    print(\"[policy debug] exploring starts\")\n",
    "                return random.choice([Action.HIT, Action.STICK])\n",
    "            else:\n",
    "                q = self.q[str(state)]\n",
    "                if q[Action.HIT]['q'] > q[Action.STICK]['q']:\n",
    "                    return Action.HIT\n",
    "                elif q[Action.HIT]['q'] < q[Action.STICK]['q']:\n",
    "                    return Action.STICK\n",
    "                else:\n",
    "                    return random.choice([Action.HIT, Action.STICK])\n",
    "\n",
    "    def update_q(self, game, reward):\n",
    "        seen = set()\n",
    "        for (state, action) in [(game[i], game[i+1]) for i in range(0, len(game)-1, 2)]:\n",
    "            key = \"%r-%s\" % (state, action)\n",
    "            if key not in seen:\n",
    "                seen.add(key)\n",
    "                # incrementally update average\n",
    "                if str(state) in self.q.keys():\n",
    "                    # this if is necessary because we may receive state where PlayerSum <= 11\n",
    "                    # in this case we always HIT, so it's not an interesting space\n",
    "                    NewCount = self.q[str(state)][action]['count'] + 1\n",
    "                    CurrentAverage = self.q[str(state)][action]['q']\n",
    "                    NewAverage = CurrentAverage + 1./NewCount*(reward-CurrentAverage)\n",
    "                    self.q[str(state)][action]['count'] = NewCount\n",
    "                    self.q[str(state)][action]['q'] = NewAverage\n",
    "\n",
    "    def show(self):\n",
    "        for state in self.q.keys():\n",
    "            if self.q[state][Action.HIT]['count'] > 0 or self.q[state][Action.STICK]['count'] > 0:\n",
    "                print(\"[policy debug] updated q value for state \", state, self.q[state])"
   ]
  },
  {
   "cell_type": "code",
   "execution_count": 94,
   "metadata": {
    "collapsed": false
   },
   "outputs": [
    {
     "name": "stdout",
     "output_type": "stream",
     "text": [
      "iteration  0\n",
      "iteration  10\n",
      "iteration  20\n",
      "iteration  30\n",
      "iteration  40\n",
      "iteration  50\n",
      "iteration  60\n",
      "iteration  70\n",
      "iteration  80\n",
      "iteration  90\n",
      "iteration  100\n",
      "iteration  110\n",
      "iteration  120\n",
      "iteration  130\n",
      "iteration  140\n",
      "iteration  150\n",
      "iteration  160\n",
      "iteration  170\n",
      "iteration  180\n",
      "iteration  190\n"
     ]
    }
   ],
   "source": [
    "debug = False\n",
    "seed = 42\n",
    "policy = MCPolicy(seed=seed, debug=debug)\n",
    "env = BlackjackEnv(seed=seed+1, debug=debug)\n",
    "\n",
    "for i in range(int(200)):\n",
    "    if i % 10 == 0:\n",
    "        print(\"iteration \", i)\n",
    "    game,reward = simulate(env, policy)\n",
    "    policy.update_q(game, reward)"
   ]
  },
  {
   "cell_type": "code",
   "execution_count": 95,
   "metadata": {
    "collapsed": false
   },
   "outputs": [
    {
     "data": {
      "image/png": "[encoded data removed]",
      "text/plain": "<Figure size 432x288 with 2 Axes>"
     },
     "execution_count": 95,
     "metadata": {
      "image/png": {
       "height": 277,
       "width": 382
      },
      "needs_background": "light"
     },
     "output_type": "execute_result"
    }
   ],
   "source": [
    "visualize(policy)"
   ]
  },
  {
   "cell_type": "code",
   "execution_count": 96,
   "metadata": {
    "collapsed": false
   },
   "outputs": [
    {
     "name": "stdout",
     "output_type": "stream",
     "text": [
      "12 Action.HIT {<Action.HIT: 1>: {'count': 0, 'q': 0.0}, <Action.STICK: 2>: {'count': 0, 'q': 0.0}}\n",
      "13 Action.STICK {<Action.HIT: 1>: {'count': 0, 'q': 0.0}, <Action.STICK: 2>: {'count': 0, 'q': 0.0}}\n",
      "14 Action.STICK {<Action.HIT: 1>: {'count': 0, 'q': 0.0}, <Action.STICK: 2>: {'count': 0, 'q': 0.0}}\n",
      "15 Action.STICK {<Action.HIT: 1>: {'count': 0, 'q': 0.0}, <Action.STICK: 2>: {'count': 0, 'q': 0.0}}\n",
      "16 Action.HIT {<Action.HIT: 1>: {'count': 0, 'q': 0.0}, <Action.STICK: 2>: {'count': 0, 'q': 0.0}}\n",
      "17 Action.STICK {<Action.HIT: 1>: {'count': 0, 'q': 0.0}, <Action.STICK: 2>: {'count': 0, 'q': 0.0}}\n",
      "18 Action.HIT {<Action.HIT: 1>: {'count': 0, 'q': 0.0}, <Action.STICK: 2>: {'count': 0, 'q': 0.0}}\n",
      "19 Action.HIT {<Action.HIT: 1>: {'count': 0, 'q': 0.0}, <Action.STICK: 2>: {'count': 0, 'q': 0.0}}\n",
      "20 Action.HIT {<Action.HIT: 1>: {'count': 0, 'q': 0.0}, <Action.STICK: 2>: {'count': 0, 'q': 0.0}}\n",
      "21 Action.HIT {<Action.HIT: 1>: {'count': 0, 'q': 0.0}, <Action.STICK: 2>: {'count': 0, 'q': 0.0}}\n"
     ]
    }
   ],
   "source": [
    "# for debug purpose\n",
    "for s in range(12,22):\n",
    "    state = State(s, 4, True)\n",
    "    print(s, policy.pi(state), policy.q[str(state)])"
   ]
  },
  {
   "cell_type": "code",
   "execution_count": 0,
   "metadata": {
    "collapsed": false
   },
   "outputs": [
   ],
   "source": [
   ]
  }
 ],
 "metadata": {
  "kernelspec": {
   "display_name": "Python 3 (system-wide)",
   "language": "python",
   "metadata": {
    "cocalc": {
     "description": "Python 3 programming language",
     "priority": 100,
     "url": "https://www.python.org/"
    }
   },
   "name": "python3",
   "resource_dir": "/ext/jupyter/kernels/python3"
  },
  "language_info": {
   "codemirror_mode": {
    "name": "ipython",
    "version": 3
   },
   "file_extension": ".py",
   "mimetype": "text/x-python",
   "name": "python",
   "nbconvert_exporter": "python",
   "pygments_lexer": "ipython3",
   "version": "3.8.10"
  }
 },
 "nbformat": 4,
 "nbformat_minor": 4
}